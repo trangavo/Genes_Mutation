{
 "cells": [
  {
   "cell_type": "code",
   "execution_count": 9,
   "metadata": {},
   "outputs": [],
   "source": [
    "# get the longest common subsequences\n",
    "\n",
    "# build a table that indicates the common elements of 2 strings\n",
    "def LCS_length(X, Y):\n",
    "    m = len(X)\n",
    "    n = len(Y)\n",
    "    # make 2 tables to keep track of alike elements of 2 strings\n",
    "    b = [[0 for i in range(n+1)] for j in range(m+1)]\n",
    "    c = [[0 for i in range(n+1)] for j in range(m+1)]\n",
    "    # traverse along the rows\n",
    "    for i in range(1, m+1):\n",
    "        # traverse along the columns\n",
    "        for j in range(1, n+1):\n",
    "            # if 2 elements of X and Y are alike\n",
    "            if X[i-1] == Y[j-1]:\n",
    "                # add 1 to the number of alike components\n",
    "                c[i][j] = c[i-1][j-1] + 1\n",
    "                # mark the cell as alike\n",
    "                b[i][j] = \"common\"\n",
    "            # if 2 elements are different, the value of the cell is the bigger value among the ones above and to the right of it\n",
    "            elif c[i-1][j] >= c[i][j-1]:\n",
    "                c[i][j] = c[i-1][j]\n",
    "                # mark the cell as up if its value is the value of the cell above it\n",
    "                b[i][j] = \"up\"\n",
    "            else:\n",
    "                c[i][j] = c[i][j-1]\n",
    "                # mark the cell as left if its value is the value of the cell on its left\n",
    "                b[i][j] = \"left\"\n",
    "    return c, b\n",
    "\n",
    "# get the LCS\n",
    "def LCS(b, X, lenX, lenY, lcs = []):\n",
    "    if lenX == 0 or lenY == 0:\n",
    "        return\n",
    "    # traverse from the bottom right of the table\n",
    "    # if a cell is marked as alike, get the element corresponding to that cell and move diagonally up to the left\n",
    "    if b[lenX][lenY] == \"common\":\n",
    "        LCS(b, X, lenX-1, lenY-1, lcs)\n",
    "        lcs.append(X[lenX-1])\n",
    "    # if a cell is marked up, travel one cell up vertically\n",
    "    elif b[lenX][lenY] == \"up\":\n",
    "        LCS(b, X, lenX-1, lenY, lcs)\n",
    "    # if a cell is marked left, travel one cell to the left\n",
    "    else:\n",
    "        LCS(b, X, lenX, lenY-1, lcs)\n",
    "    return lcs\n",
    "\n",
    "# convert the LCS to a string\n",
    "def LCS_str(b, X, lenX, lenY, lcs):\n",
    "    lcs = LCS(b, X, lenX, lenY, lcs)\n",
    "    lcs = ''.join(lcs)\n",
    "    return lcs, len(lcs)"
   ]
  },
  {
   "cell_type": "code",
   "execution_count": 51,
   "metadata": {},
   "outputs": [],
   "source": [
    "str_0 = 'CAGCGGGTGCGTAATTTGGAGAAGTTATTCTGCAACGAAATCAATCCTGTTTCGTTAGCTTACGGACTACGACGAGAGGGTACTTCCCTGATATAGTCAC'\n",
    "str_1 = 'CAAGTCGGGCGTATTGGAGAATATTTAAATCGGAAGATCATGTTACTATGCGTTAGCTCACGGACTGAAGAGGATTCTCTCTTAATGCAA'\n",
    "str_2 = 'CATGGGTGCGTCGATTTTGGCAGTAAAGTGGAATCGTCAGATATCAATCCTGTTTCGTAGAAAGGAGCTACCTAGAGAGGATTACTCTCACATAGTA'\n",
    "str_3 = 'CAAGTCCGCGATAAATTGGAATATTTGTCAATCGGAATAGTCAACTTAGCTGGCGTTAGCTTTACGACTGACAGAGAGAAACCTGTCCATCACACA'\n",
    "str_4 = 'CAGTCCGGCGTAATTGGAGAATATTTTGCAATCGGAAGATCAATCTTGTTAGCGTTAGCTTACGACTGACGAGAGGGATACTCTCTCTAATACAA'\n",
    "str_5 = 'CACGGGCTCCGCATCTATTTTGGGTCAAGTTGCATATCAGTCATCGACAATCAAACACTGTTTTGCGGTAGATAAGATACGACTGAGAGAGGACGTTCGCTCGAATATAGTTAC'\n",
    "str_6 = 'CACGGGTCCAATTTTGGAGTAAGTTGATATCGTCACGAAATCAATCCTGTTTCGGTAGTATAGGACTACGACGAGAGAGGACGTTCCTCTGATATAGTTAC'\n",
    "str_7 = 'GGTCCGTCAATTTTGGAGTAAGTTGATATCGTCACGAAATCAATCCTGTTTCGGTAGTATAGGACTACGACGAGAGAGGACGTTCCTCTGATATAGTTAC'\n",
    "str_8 = 'CACGGGAATCCGTCAATTTTGGAGTAAGTTGATATCGTCACGAAATCAATCCTGTTTCGGTAGTATAGGACTACGACGAGAGAGGACGTTCCTCTGATATAGTTAC'\n",
    "str_9 = 'CACGGGTCCGTCAATTTTGGAGTAAGTTGATATCGTCACGAAATCAATCCTGTTTCGGTAGTATAGGACTACGACGAGAGAGGACGTTCCTCTGATATAGTTAC'\n",
    "set_strings = [] + [str_0] + [str_1] + [str_2] + [str_3] + [str_4] + [str_5] + [str_6] + [str_7] + [str_8] + [str_9]"
   ]
  },
  {
   "cell_type": "code",
   "execution_count": 79,
   "metadata": {},
   "outputs": [
    {
     "name": "stdout",
     "output_type": "stream",
     "text": [
      "('CAGCGGGCGTATTGGAGAATATTTAACGAAATCATTTTTCGTTAGCTACGGACTGAAGAGGATTCCCTAATGCA', 74)\n",
      "('CAGTCCGCATATTGGAATATTGTCATCGAAATCAACACTGGCGTTAGTACGACTGAAGAGAGCCTGTATAAC', 72)\n",
      "('CACGGGTCCAATTTTGGAGTAAGTTGATATCGTCACGAAATCAATCCTGTTTCGGTAGTATAGGACTACGACGAGAGAGGACGTTCCTCTGATATAGTTAC', 101)\n",
      "('CACGGGTCGTAATTTGGAGAAGTTATTCTCACGAAATCAATCCTGTTTCGTAGTTAGGACTACGACGAGAGGGACTTCCCTGATATAGTAC', 91)\n"
     ]
    }
   ],
   "source": [
    "print(LCS_str(LCS_length(str_0, str_1)[1], str_0, len(str_0), len(str_1), []))\n",
    "print(LCS_str(LCS_length(str_3, str_5)[1], str_3, len(str_3), len(str_5), []))\n",
    "print(LCS_str(LCS_length(str_6, str_9)[1], str_6, len(str_6), len(str_9), []))\n",
    "print(LCS_str(LCS_length(str_0, str_9)[1], str_0, len(str_0), len(str_9), []))"
   ]
  },
  {
   "cell_type": "code",
   "execution_count": 72,
   "metadata": {},
   "outputs": [
    {
     "name": "stdout",
     "output_type": "stream",
     "text": [
      "[['nil', 100, 90, 97, 96, 95, 114, 101, 100, 106, 104], [100, 100, 74, 76, 73, 82, 84, 89, 87, 91, 91], [90, 74, 90, 67, 72, 79, 71, 69, 68, 71, 71], [97, 76, 67, 97, 65, 69, 82, 82, 81, 84, 84], [96, 73, 72, 65, 96, 80, 72, 68, 67, 69, 69], [95, 82, 79, 69, 80, 95, 74, 74, 73, 75, 75], [114, 84, 71, 82, 72, 74, 114, 95, 93, 97, 97], [101, 89, 69, 82, 68, 74, 95, 101, 97, 101, 101], [100, 87, 68, 81, 67, 73, 93, 97, 100, 100, 100], [106, 91, 71, 84, 69, 75, 97, 101, 100, 106, 104], [104, 91, 71, 84, 69, 75, 97, 101, 100, 104, 104]]\n"
     ]
    }
   ],
   "source": [
    "# get the length of LCS for every pair of genes\n",
    "def LCS_table(set_str):\n",
    "    # make a table\n",
    "    LCS_table = [['nil']*(len(set_str)+1) for i in range(len(set_str)+1)]\n",
    "    # the first row and column of the table are the length of the genes\n",
    "    for i in range(1, len(set_str)+1):\n",
    "        LCS_table[0][i] = len(set_str[i-1])\n",
    "    for j in range(1, len(set_str)+1):\n",
    "        LCS_table[j][0] = len(set_str[j-1])\n",
    "    # fill up the table with length of the LCSs between 2 genes\n",
    "    for i in range(1, len(set_str)+1):\n",
    "        for j in range(1, len(set_str)+1):\n",
    "            LCS_table[i][j] = LCS_str(LCS_length(set_str[i-1], set_str[j-1])[1], set_str[i-1], len(set_str[i-1]), len(set_str[j-1]), [])[1]\n",
    "    return LCS_table\n",
    "lcs_table = LCS_table(set_strings)\n",
    "print(lcs_table)"
   ]
  },
  {
   "cell_type": "code",
   "execution_count": 76,
   "metadata": {},
   "outputs": [
    {
     "name": "stdout",
     "output_type": "stream",
     "text": [
      "[['nil', 0, 1, 2, 3, 4, 5, 6, 7, 8, 9], [0, 1.0, 0.74, 0.76, 0.73, 0.82, 0.84, 0.89, 0.87, 0.91, 0.91], [1, 0.822, 1.0, 0.744, 0.8, 0.878, 0.789, 0.767, 0.756, 0.789, 0.789], [2, 0.784, 0.691, 1.0, 0.67, 0.711, 0.845, 0.845, 0.835, 0.866, 0.866], [3, 0.76, 0.75, 0.677, 1.0, 0.833, 0.75, 0.708, 0.698, 0.719, 0.719], [4, 0.863, 0.832, 0.726, 0.842, 1.0, 0.779, 0.779, 0.768, 0.789, 0.789], [5, 0.737, 0.623, 0.719, 0.632, 0.649, 1.0, 0.833, 0.816, 0.851, 0.851], [6, 0.881, 0.683, 0.812, 0.673, 0.733, 0.941, 1.0, 0.96, 1.0, 1.0], [7, 0.87, 0.68, 0.81, 0.67, 0.73, 0.93, 0.97, 1.0, 1.0, 1.0], [8, 0.858, 0.67, 0.792, 0.651, 0.708, 0.915, 0.953, 0.943, 1.0, 0.981], [9, 0.875, 0.683, 0.808, 0.663, 0.721, 0.933, 0.971, 0.962, 1.0, 1.0]]\n"
     ]
    }
   ],
   "source": [
    "# get the ratio between length of an LCS and its original genes\n",
    "def similarity(lcs_table):\n",
    "    l = len(lcs_table)\n",
    "    k = 0\n",
    "    m = 0\n",
    "    # divide the value in each cell by the value of the first cell in the row\n",
    "    for i in range(1, l):\n",
    "        for j in range(1, l):\n",
    "            lcs_table[i][j] = round(lcs_table[i][j] / lcs_table[i][0], 3)\n",
    "    # change the first row and column values to the name of each string\n",
    "    for i in range(1, l):\n",
    "        lcs_table[0][i] = k\n",
    "        k += 1\n",
    "    for j in range(1, l):\n",
    "        lcs_table[j][0] = m\n",
    "        m += 1\n",
    "    return lcs_table\n",
    "similarity = similarity(LCS_table(set_strings))\n",
    "print(similarity)"
   ]
  },
  {
   "cell_type": "code",
   "execution_count": 78,
   "metadata": {},
   "outputs": [
    {
     "name": "stdout",
     "output_type": "stream",
     "text": [
      "[['nil', 0, 1, 2, 3, 4, 5, 6, 7, 8, 9], [0, 0, 0.608, 0.596, 0.555, 0.708, 0.619, 0.784, 0.757, 0.781, 0.796], [1, 0.608, 0, 0.514, 0.6, 0.73, 0.492, 0.524, 0.514, 0.529, 0.539], [2, 0.596, 0.514, 0, 0.454, 0.516, 0.608, 0.686, 0.676, 0.686, 0.7], [3, 0.555, 0.6, 0.454, 0, 0.701, 0.474, 0.476, 0.468, 0.468, 0.477], [4, 0.708, 0.73, 0.516, 0.701, 0, 0.506, 0.571, 0.561, 0.559, 0.569], [5, 0.619, 0.492, 0.608, 0.474, 0.506, 0, 0.784, 0.759, 0.779, 0.794], [6, 0.784, 0.524, 0.686, 0.476, 0.571, 0.784, 0, 0.931, 0.953, 0.971], [7, 0.757, 0.514, 0.676, 0.468, 0.561, 0.759, 0.931, 0, 0.943, 0.962], [8, 0.781, 0.529, 0.686, 0.468, 0.559, 0.779, 0.953, 0.943, 0, 0.981], [9, 0.796, 0.539, 0.7, 0.477, 0.569, 0.794, 0.971, 0.962, 0.981, 0]]\n"
     ]
    }
   ],
   "source": [
    "# get the similarity score\n",
    "def score(similarity):\n",
    "    l = len(similarity)\n",
    "    k = 0\n",
    "    m = 0\n",
    "    # make a table\n",
    "    score_table = [['nil']*l for i in range(l)]\n",
    "    for i in range(1, l):\n",
    "        score_table[0][i] = k\n",
    "        k += 1\n",
    "    for j in range(1, l):\n",
    "        score_table[j][0] = m\n",
    "        m += 1\n",
    "    # get the similarity score by multiplying the 2 ratios for each pair of strings\n",
    "    for i in range(1, l):\n",
    "        for j in range(1, l):\n",
    "            score_table[i][j] = round(similarity[i][j]*similarity[j][i], 3)\n",
    "            if score_table[i][j] == 1:\n",
    "                score_table[i][j] = 0\n",
    "    return score_table\n",
    "score_tab = score(similarity)\n",
    "print(score_tab)"
   ]
  },
  {
   "cell_type": "code",
   "execution_count": 70,
   "metadata": {},
   "outputs": [],
   "source": [
    "# export the table to csv\n",
    "import csv\n",
    "with open(\"lcs_similarity.csv\", \"w\") as f:\n",
    "    writer = csv.writer(f)\n",
    "    writer.writerows(lcs_table)\n",
    "with open(\"lcs.csv\", \"w\") as f:\n",
    "    writer = csv.writer(f)\n",
    "    writer.writerows(similarity)\n",
    "with open(\"lcs_score.csv\", \"w\") as f:\n",
    "    writer = csv.writer(f)\n",
    "    writer.writerows(score_tab)"
   ]
  },
  {
   "cell_type": "code",
   "execution_count": null,
   "metadata": {},
   "outputs": [],
   "source": []
  }
 ],
 "metadata": {
  "kernelspec": {
   "display_name": "Python 3",
   "language": "python",
   "name": "python3"
  },
  "language_info": {
   "codemirror_mode": {
    "name": "ipython",
    "version": 3
   },
   "file_extension": ".py",
   "mimetype": "text/x-python",
   "name": "python",
   "nbconvert_exporter": "python",
   "pygments_lexer": "ipython3",
   "version": "3.6.8"
  }
 },
 "nbformat": 4,
 "nbformat_minor": 2
}
